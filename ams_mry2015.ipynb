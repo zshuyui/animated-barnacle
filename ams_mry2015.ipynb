{
 "cells": [
  {
   "cell_type": "code",
   "execution_count": 8,
   "metadata": {
    "collapsed": true
   },
   "outputs": [],
   "source": [
    "import plotly.tools as tls\n",
    "tls.set_credentials_file(username='zshuyui', api_key='1r8xnyxan3')"
   ]
  },
  {
   "cell_type": "code",
   "execution_count": 9,
   "metadata": {
    "collapsed": true
   },
   "outputs": [],
   "source": [
    "credentials = tls.get_credentials_file()"
   ]
  },
  {
   "cell_type": "code",
   "execution_count": 13,
   "metadata": {
    "collapsed": true
   },
   "outputs": [],
   "source": [
    "%matplotlib inline"
   ]
  },
  {
   "cell_type": "code",
   "execution_count": 15,
   "metadata": {
    "collapsed": false,
    "scrolled": false
   },
   "outputs": [
    {
     "data": {
      "text/html": [
       "<iframe id=\"igraph\" scrolling=\"no\" style=\"border:none;\" seamless=\"seamless\" src=\"https://plot.ly/~zshuyui/2.embed\" height=\"525px\" width=\"100%\"></iframe>"
      ],
      "text/plain": [
       "<plotly.tools.PlotlyDisplay object>"
      ]
     },
     "execution_count": 15,
     "metadata": {},
     "output_type": "execute_result"
    }
   ],
   "source": [
    "import pyodbc as pyd\n",
    "import pandas as pd\n",
    "\n",
    "##connection prompt -- removed for security reasons\n",
    "query = ('SELECT * FROM data.patients2015')\n",
    "df = pd.read_sql(query, conn)\n",
    "dffem = df[df['gender']=='F']\n",
    "dfmal = df[df['gender']=='M']\n",
    "dfins = df[df['ins_type']!='AMS_CLASS']\n",
    "\n",
    "trace1 = go.Histogram(\n",
    "    x=dffem['Age_years'], \n",
    "    name = 'female', \n",
    "    opacity=0.75, \n",
    "    hoverinfo='all', \n",
    "    #marker=dict(color=np.arange(0,120),colorscale='Portland'))\n",
    "    marker=dict(color='rgb(138,141,143)'))\n",
    "trace2 = go.Histogram(\n",
    "    x=dfmal['Age_years'], \n",
    "    name = 'male', \n",
    "    opacity=0.75, \n",
    "    hoverinfo='all', \n",
    "    #marker=dict(color=np.arange(0,120),colorscale='Viridis'))\n",
    "    marker=dict(color='rgb(161,214,202)'))\n",
    "\n",
    "fig2={\n",
    "\"data\": [trace1, trace2],\n",
    "\"layout\": go.Layout(\n",
    "    title='<b>Age Distribution for 2015, <i>ams_myr_database</i></b>',\n",
    "    font=dict(family='Georgia', size=16),\n",
    "    xaxis=dict(title='Age (Years)'),\n",
    "    yaxis=dict(title='Frequency'),\n",
    "    barmode='stack',\n",
    "    bargap=0.1\n",
    ")\n",
    "}\n",
    "py.iplot(fig2, filename='age_dist.html')\n"
   ]
  },
  {
   "cell_type": "code",
   "execution_count": 24,
   "metadata": {
    "collapsed": false
   },
   "outputs": [
    {
     "data": {
      "text/html": [
       "<iframe id=\"igraph\" scrolling=\"no\" style=\"border:none;\" seamless=\"seamless\" src=\"https://plot.ly/~zshuyui/4.embed\" height=\"525px\" width=\"100%\"></iframe>"
      ],
      "text/plain": [
       "<plotly.tools.PlotlyDisplay object>"
      ]
     },
     "execution_count": 24,
     "metadata": {},
     "output_type": "execute_result"
    }
   ],
   "source": [
    "g1 = dfins.groupby(['ins_type']).count().reset_index()\n",
    "\n",
    "fig = {'data':\n",
    "        [\n",
    "        {'labels':g1['ins_type'],\n",
    "             'values': g1['mrn'],\n",
    "             'textposition':'outside',\n",
    "             'textinfo':'value+percent+label',\n",
    "             'hole':0.4,\n",
    "             'type': 'pie',\n",
    "             'pull':0.2,\n",
    "             #'showlegend':False,\n",
    "             'marker':\n",
    "                 {'colors': [\n",
    "                    'rgb(138,141,143)',\n",
    "                      'rgb(161,214,202)',\n",
    "                      'rgb(38,89,106)',\n",
    "                      'rgb(84,164,190)',\n",
    "                      'rgb(0,164,127)'\n",
    "                      ]\n",
    "                 }\n",
    "            }\n",
    "        ],\n",
    "    'layout':\n",
    "        {\n",
    "        'title':'Insurance Breakdowns, <i>ams_myr_database</i>',\n",
    "        'font':{'size':16, 'family':'Georgia'},\n",
    "        \n",
    "        'annotations':\n",
    "            [\n",
    "                {\n",
    "                 'font': {'size':20, 'family':'Georgia'},\n",
    "                 'showarrow':False,\n",
    "                'text':'<b>2015</b>'\n",
    "                }\n",
    "            ]\n",
    "         }\n",
    "    }\n",
    "py.iplot(fig, filename='ins_freq.html')\n"
   ]
  },
  {
   "cell_type": "code",
   "execution_count": 29,
   "metadata": {
    "collapsed": false
   },
   "outputs": [
    {
     "data": {
      "text/html": [
       "<div>\n",
       "<table border=\"1\" class=\"dataframe\">\n",
       "  <thead>\n",
       "    <tr style=\"text-align: right;\">\n",
       "      <th></th>\n",
       "      <th>Age_years</th>\n",
       "      <th>Hosp_visits</th>\n",
       "    </tr>\n",
       "  </thead>\n",
       "  <tbody>\n",
       "    <tr>\n",
       "      <th>count</th>\n",
       "      <td>56504.000000</td>\n",
       "      <td>56504.000000</td>\n",
       "    </tr>\n",
       "    <tr>\n",
       "      <th>mean</th>\n",
       "      <td>45.567429</td>\n",
       "      <td>4.808385</td>\n",
       "    </tr>\n",
       "    <tr>\n",
       "      <th>std</th>\n",
       "      <td>24.298675</td>\n",
       "      <td>5.983131</td>\n",
       "    </tr>\n",
       "    <tr>\n",
       "      <th>min</th>\n",
       "      <td>0.000000</td>\n",
       "      <td>1.000000</td>\n",
       "    </tr>\n",
       "    <tr>\n",
       "      <th>25%</th>\n",
       "      <td>25.000000</td>\n",
       "      <td>1.000000</td>\n",
       "    </tr>\n",
       "    <tr>\n",
       "      <th>50%</th>\n",
       "      <td>49.000000</td>\n",
       "      <td>3.000000</td>\n",
       "    </tr>\n",
       "    <tr>\n",
       "      <th>75%</th>\n",
       "      <td>64.000000</td>\n",
       "      <td>6.000000</td>\n",
       "    </tr>\n",
       "    <tr>\n",
       "      <th>max</th>\n",
       "      <td>105.000000</td>\n",
       "      <td>120.000000</td>\n",
       "    </tr>\n",
       "  </tbody>\n",
       "</table>\n",
       "</div>"
      ],
      "text/plain": [
       "          Age_years   Hosp_visits\n",
       "count  56504.000000  56504.000000\n",
       "mean      45.567429      4.808385\n",
       "std       24.298675      5.983131\n",
       "min        0.000000      1.000000\n",
       "25%       25.000000      1.000000\n",
       "50%       49.000000      3.000000\n",
       "75%       64.000000      6.000000\n",
       "max      105.000000    120.000000"
      ]
     },
     "metadata": {},
     "output_type": "display_data"
    }
   ],
   "source": [
    "import IPython.display as dis\n",
    "dis.display(df.describe())"
   ]
  },
  {
   "cell_type": "code",
   "execution_count": 31,
   "metadata": {
    "collapsed": false
   },
   "outputs": [
    {
     "name": "stdout",
     "output_type": "stream",
     "text": [
      "51-65 years    13560\n",
      "36-50 years     9897\n",
      "0-18 years      9668\n",
      "19-35 years     9652\n",
      "66-80 years     9355\n",
      "81+ years       3812\n",
      "dtype: int64\n"
     ]
    }
   ],
   "source": [
    "bins=[0, 18, 35, 50, 65, 80, 150]\n",
    "group_names=['0-18 years', '19-35 years', '36-50 years', '51-65 years', '66-80 years', '81+ years']\n",
    "\n",
    "df['age_bin']= pd.cut(df['Age_years'], bins, labels=group_names)\n",
    "print(pd.value_counts(df['age_bin']))"
   ]
  },
  {
   "cell_type": "code",
   "execution_count": 45,
   "metadata": {
    "collapsed": false
   },
   "outputs": [
    {
     "data": {
      "text/html": [
       "<iframe id=\"igraph\" scrolling=\"no\" style=\"border:none;\" seamless=\"seamless\" src=\"https://plot.ly/~zshuyui/6.embed\" height=\"525px\" width=\"100%\"></iframe>"
      ],
      "text/plain": [
       "<plotly.tools.PlotlyDisplay object>"
      ]
     },
     "execution_count": 45,
     "metadata": {},
     "output_type": "execute_result"
    }
   ],
   "source": [
    "colors=['rgb(38,89,106)','rgb(138,141,143)','rgb(161,214,202)', 'rgb(0,164,127)','rgb(84,164,190)', 'rgb(100,229,185)', \n",
    "        'rgb(0,0,0)']\n",
    "\n",
    "lista=dict()\n",
    "for i in range(0, len(group_names)):\n",
    "    lista[i] = go.Histogram(\n",
    "    x=df[df['age_bin']==group_names[i]]['Hosp_visits'], \n",
    "    name = str(group_names[i]), \n",
    "    opacity=0.8, \n",
    "    hoverinfo='all', \n",
    "    marker=dict(color=colors[i]))\n",
    "     \n",
    "fig3={\n",
    "\"data\": [lista[0],lista[1], lista[2], lista[3], lista[4], lista[5]],\n",
    "\"layout\": go.Layout(\n",
    "    title='Frequency of Hospital Visits for 2015, <i>ams_myr_database</i>',\n",
    "    font=dict(family='Georgia', size=16),\n",
    "    xaxis=dict(title='Hospital visit count (log scale)', type='log'),\n",
    "    yaxis=dict(title='Frequency'),\n",
    "    barmode='stack',\n",
    "    bargap=0.1\n",
    ")\n",
    "}\n",
    "py.iplot(fig3, filename='hosp_visit.html')\n",
    "\n"
   ]
  },
  {
   "cell_type": "code",
   "execution_count": null,
   "metadata": {
    "collapsed": true
   },
   "outputs": [],
   "source": []
  }
 ],
 "metadata": {
  "kernelspec": {
   "display_name": "Python 3",
   "language": "python",
   "name": "python3"
  },
  "language_info": {
   "codemirror_mode": {
    "name": "ipython",
    "version": 3
   },
   "file_extension": ".py",
   "mimetype": "text/x-python",
   "name": "python",
   "nbconvert_exporter": "python",
   "pygments_lexer": "ipython3",
   "version": "3.5.1"
  }
 },
 "nbformat": 4,
 "nbformat_minor": 0
}
